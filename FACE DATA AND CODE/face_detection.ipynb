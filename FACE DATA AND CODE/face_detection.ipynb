{
 "cells": [
  {
   "cell_type": "code",
   "execution_count": 1,
   "id": "da2ea7c6",
   "metadata": {},
   "outputs": [],
   "source": [
    "import cv2\n",
    "import os\n",
    "import face_recognition\n",
    "import numpy as np\n",
    "import serial"
   ]
  },
  {
   "cell_type": "code",
   "execution_count": 2,
   "id": "dd41538c",
   "metadata": {},
   "outputs": [],
   "source": [
    "ser = serial.Serial()\n",
    "ser.port = 'COM3'\n",
    "ser.baudrate = 9600\n",
    "ser.bytesize = 8\n",
    "ser.parity = serial.PARITY_NONE\n",
    "ser.stopbits = serial.STOPBITS_ONE"
   ]
  },
  {
   "cell_type": "code",
   "execution_count": 3,
   "id": "1651e701",
   "metadata": {},
   "outputs": [],
   "source": [
    "cap = cv2.VideoCapture(0)"
   ]
  },
  {
   "cell_type": "code",
   "execution_count": 4,
   "id": "a4fbec83",
   "metadata": {},
   "outputs": [],
   "source": [
    "path = 'data'\n",
    "stdImg = []\n",
    "stdName = []\n",
    "myList = os.listdir(path)"
   ]
  },
  {
   "cell_type": "code",
   "execution_count": 5,
   "id": "c2295fe6",
   "metadata": {},
   "outputs": [],
   "source": [
    "for cl in myList:\n",
    "    curimg = cv2.imread(f'{path}/{cl}')\n",
    "    stdImg.append(curimg)\n",
    "    stdName.append(os.path.splitext(cl)[0])"
   ]
  },
  {
   "cell_type": "code",
   "execution_count": 6,
   "id": "06aa77bb",
   "metadata": {},
   "outputs": [],
   "source": [
    "studentName = [name.upper() for name in stdName]"
   ]
  },
  {
   "cell_type": "code",
   "execution_count": 7,
   "id": "99e2902e",
   "metadata": {},
   "outputs": [
    {
     "name": "stdout",
     "output_type": "stream",
     "text": [
      "Student Names in the List is : ['DHYA', 'JAYA', 'KARTHICK', 'SANJAY', 'SATHISH']\n"
     ]
    }
   ],
   "source": [
    "print('Student Names in the List is :',studentName)"
   ]
  },
  {
   "cell_type": "code",
   "execution_count": 8,
   "id": "a6801ddc",
   "metadata": {},
   "outputs": [],
   "source": [
    "stdname_copy = studentName.copy()"
   ]
  },
  {
   "cell_type": "code",
   "execution_count": 9,
   "id": "220dd5ce",
   "metadata": {},
   "outputs": [],
   "source": [
    "def resize(img, size) :\n",
    "    width = int(img.shape[1]*size)\n",
    "    height = int(img.shape[0] * size)\n",
    "    dimension = (width, height)\n",
    "    return cv2.resize(img, dimension, interpolation= cv2.INTER_AREA)"
   ]
  },
  {
   "cell_type": "code",
   "execution_count": 10,
   "id": "8e25d36c",
   "metadata": {},
   "outputs": [],
   "source": [
    "def findEncoding(images) :\n",
    "    imgEncodings = []\n",
    "    for img in images :\n",
    "        img = resize(img, 0.50)\n",
    "        img = cv2.cvtColor(img, cv2.COLOR_BGR2RGB)\n",
    "        encodeimg = face_recognition.face_encodings(img)[0]\n",
    "        imgEncodings.append(encodeimg)\n",
    "    return imgEncodings"
   ]
  },
  {
   "cell_type": "code",
   "execution_count": 11,
   "id": "befa12da",
   "metadata": {},
   "outputs": [],
   "source": [
    "EncodeList = findEncoding(stdImg)"
   ]
  },
  {
   "cell_type": "code",
   "execution_count": 12,
   "id": "a6a18043",
   "metadata": {},
   "outputs": [],
   "source": [
    "#in_camera = []"
   ]
  },
  {
   "cell_type": "code",
   "execution_count": null,
   "id": "096a4552",
   "metadata": {
    "scrolled": false
   },
   "outputs": [],
   "source": [
    "while True :\n",
    "    success, frame = cap.read()\n",
    "    Smaller_frames = cv2.resize(frame, (0,0), None, 0.25, 0.25)\n",
    "\n",
    "    facesInFrame = face_recognition.face_locations(Smaller_frames)\n",
    "    encodeFacesInFrame = face_recognition.face_encodings(Smaller_frames, facesInFrame)\n",
    "    in_camera = []\n",
    "        \n",
    "    for encodeFace, faceloc in zip(encodeFacesInFrame, facesInFrame) :\n",
    "        matches = face_recognition.compare_faces(EncodeList, encodeFace)\n",
    "        facedis = face_recognition.face_distance(EncodeList, encodeFace)\n",
    "        matchIndex = np.argmin(facedis)\n",
    "        #print(matchIndex)\n",
    "        #print(matches[matchIndex])\n",
    "\n",
    "        if matches[matchIndex] :\n",
    "            name = studentName[matchIndex].upper()\n",
    "            y1, x2, y2, x1 = faceloc\n",
    "            y1, x2, y2, x1 = y1*4, x2*4, y2*4, x1*4\n",
    "            cv2.rectangle(frame, (x1, y1), (x2, y2), (0, 255, 0), 3)\n",
    "            cv2.rectangle(frame, (x1, y2-25), (x2, y2), (0, 255, 0), cv2.FILLED)\n",
    "            cv2.putText(frame, name, (x1+6, y2-6), cv2.FONT_HERSHEY_COMPLEX, 1, (255, 255, 255), 2)\n",
    "            in_camera.append(name)\n",
    "            if name == 'DHYA':\n",
    "                b = b'E'\n",
    "                ser.open()\n",
    "                ser.write(b)\n",
    "                ser.close()\n",
    "            elif name == 'SATHISH':\n",
    "                b = b'A'\n",
    "                ser.open()\n",
    "                ser.write(b)\n",
    "                ser.close()\n",
    "            elif name == 'KARTHICK':\n",
    "                b = b'B'\n",
    "                ser.open()\n",
    "                ser.write(b)\n",
    "                ser.close()\n",
    "            elif name == 'JAYA':\n",
    "                b = b'C'\n",
    "                ser.open()\n",
    "                ser.write(b)\n",
    "                ser.close()\n",
    "            elif name == 'SANJAY':\n",
    "                b = b'D'\n",
    "                ser.open()\n",
    "                ser.write(b)\n",
    "                ser.close()\n",
    "        \n",
    "    #print(in_camera)\n",
    "    cv2.imshow('Face Attendance System',frame)\n",
    "    k = cv2.waitKey(1)\n",
    "    if k == 27:\n",
    "        break\n",
    "    \n",
    "cap.release()\n",
    "cv2.destroyAllWindows()"
   ]
  },
  {
   "cell_type": "code",
   "execution_count": null,
   "id": "a260c968",
   "metadata": {},
   "outputs": [],
   "source": []
  },
  {
   "cell_type": "code",
   "execution_count": null,
   "id": "5a9ac5ad",
   "metadata": {},
   "outputs": [],
   "source": []
  },
  {
   "cell_type": "code",
   "execution_count": null,
   "id": "ec51cee6",
   "metadata": {},
   "outputs": [],
   "source": []
  }
 ],
 "metadata": {
  "kernelspec": {
   "display_name": "Python 3 (ipykernel)",
   "language": "python",
   "name": "python3"
  },
  "language_info": {
   "codemirror_mode": {
    "name": "ipython",
    "version": 3
   },
   "file_extension": ".py",
   "mimetype": "text/x-python",
   "name": "python",
   "nbconvert_exporter": "python",
   "pygments_lexer": "ipython3",
   "version": "3.9.12"
  }
 },
 "nbformat": 4,
 "nbformat_minor": 5
}
